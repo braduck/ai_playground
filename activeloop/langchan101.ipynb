{
 "cells": [
  {
   "cell_type": "code",
   "execution_count": 15,
   "metadata": {},
   "outputs": [],
   "source": [
    "import configparser\n",
    "import os\n",
    "\n",
    "config = configparser.RawConfigParser()\n",
    "config.read('../keys.config')\n",
    "os.environ[\"ACTIVELOOP_TOKEN\"] = config.get('keys', 'active_loop_key')\n",
    "os.environ[\"OPENAI_API_KEY\"] = config.get('keys', 'open_ai_key')\n"
   ]
  },
  {
   "cell_type": "code",
   "execution_count": 40,
   "metadata": {},
   "outputs": [
    {
     "name": "stdout",
     "output_type": "stream",
     "text": [
      "Requirement already satisfied: langchain==0.0.208 in /opt/homebrew/lib/python3.10/site-packages (0.0.208)\n",
      "Requirement already satisfied: deeplake in /opt/homebrew/lib/python3.10/site-packages (3.6.10)\n",
      "Requirement already satisfied: openai in /opt/homebrew/lib/python3.10/site-packages (0.27.8)\n",
      "Requirement already satisfied: typing_extensions==4.5.0 in /opt/homebrew/lib/python3.10/site-packages (4.5.0)\n",
      "Requirement already satisfied: PyYAML>=5.4.1 in /opt/homebrew/lib/python3.10/site-packages (from langchain==0.0.208) (6.0)\n",
      "Requirement already satisfied: SQLAlchemy<3,>=1.4 in /opt/homebrew/lib/python3.10/site-packages (from langchain==0.0.208) (2.0.7)\n",
      "Requirement already satisfied: aiohttp<4.0.0,>=3.8.3 in /opt/homebrew/lib/python3.10/site-packages (from langchain==0.0.208) (3.8.3)\n",
      "Requirement already satisfied: async-timeout<5.0.0,>=4.0.0 in /opt/homebrew/lib/python3.10/site-packages (from langchain==0.0.208) (4.0.2)\n",
      "Requirement already satisfied: dataclasses-json<0.6.0,>=0.5.7 in /opt/homebrew/lib/python3.10/site-packages (from langchain==0.0.208) (0.5.9)\n",
      "Requirement already satisfied: langchainplus-sdk>=0.0.13 in /opt/homebrew/lib/python3.10/site-packages (from langchain==0.0.208) (0.0.20)\n",
      "Requirement already satisfied: numexpr<3.0.0,>=2.8.4 in /opt/homebrew/lib/python3.10/site-packages (from langchain==0.0.208) (2.8.4)\n",
      "Requirement already satisfied: numpy<2,>=1 in /opt/homebrew/lib/python3.10/site-packages (from langchain==0.0.208) (1.23.5)\n",
      "Requirement already satisfied: openapi-schema-pydantic<2.0,>=1.2 in /opt/homebrew/lib/python3.10/site-packages (from langchain==0.0.208) (1.2.4)\n",
      "Requirement already satisfied: pydantic<2,>=1 in /opt/homebrew/lib/python3.10/site-packages (from langchain==0.0.208) (1.10.8)\n",
      "Requirement already satisfied: requests<3,>=2 in /opt/homebrew/lib/python3.10/site-packages (from langchain==0.0.208) (2.28.2)\n",
      "Requirement already satisfied: tenacity<9.0.0,>=8.1.0 in /opt/homebrew/lib/python3.10/site-packages (from langchain==0.0.208) (8.2.2)\n",
      "Requirement already satisfied: pillow in /opt/homebrew/lib/python3.10/site-packages (from deeplake) (9.5.0)\n",
      "Requirement already satisfied: boto3 in /opt/homebrew/lib/python3.10/site-packages (from deeplake) (1.26.76)\n",
      "Requirement already satisfied: click in /opt/homebrew/lib/python3.10/site-packages (from deeplake) (8.1.4)\n",
      "Requirement already satisfied: pathos in /opt/homebrew/lib/python3.10/site-packages (from deeplake) (0.3.0)\n",
      "Requirement already satisfied: humbug>=0.3.1 in /opt/homebrew/lib/python3.10/site-packages (from deeplake) (0.3.2)\n",
      "Requirement already satisfied: tqdm in /opt/homebrew/lib/python3.10/site-packages (from deeplake) (4.65.0)\n",
      "Requirement already satisfied: numcodecs in /opt/homebrew/lib/python3.10/site-packages (from deeplake) (0.11.0)\n",
      "Requirement already satisfied: pyjwt in /opt/homebrew/lib/python3.10/site-packages (from deeplake) (2.7.0)\n",
      "Requirement already satisfied: aioboto3>=10.4.0 in /opt/homebrew/lib/python3.10/site-packages (from deeplake) (11.2.0)\n",
      "Requirement already satisfied: nest-asyncio in /Users/julison/Library/Python/3.10/lib/python/site-packages (from deeplake) (1.5.6)\n",
      "Requirement already satisfied: aiobotocore[boto3]==2.5.0 in /opt/homebrew/lib/python3.10/site-packages (from aioboto3>=10.4.0->deeplake) (2.5.0)\n",
      "Requirement already satisfied: botocore<1.29.77,>=1.29.76 in /opt/homebrew/lib/python3.10/site-packages (from aiobotocore[boto3]==2.5.0->aioboto3>=10.4.0->deeplake) (1.29.76)\n",
      "Requirement already satisfied: wrapt>=1.10.10 in /opt/homebrew/lib/python3.10/site-packages (from aiobotocore[boto3]==2.5.0->aioboto3>=10.4.0->deeplake) (1.14.1)\n",
      "Requirement already satisfied: aioitertools>=0.5.1 in /opt/homebrew/lib/python3.10/site-packages (from aiobotocore[boto3]==2.5.0->aioboto3>=10.4.0->deeplake) (0.11.0)\n",
      "Requirement already satisfied: attrs>=17.3.0 in /opt/homebrew/lib/python3.10/site-packages (from aiohttp<4.0.0,>=3.8.3->langchain==0.0.208) (22.2.0)\n",
      "Requirement already satisfied: charset-normalizer<3.0,>=2.0 in /opt/homebrew/lib/python3.10/site-packages (from aiohttp<4.0.0,>=3.8.3->langchain==0.0.208) (2.1.1)\n",
      "Requirement already satisfied: multidict<7.0,>=4.5 in /opt/homebrew/lib/python3.10/site-packages (from aiohttp<4.0.0,>=3.8.3->langchain==0.0.208) (6.0.4)\n",
      "Requirement already satisfied: yarl<2.0,>=1.0 in /opt/homebrew/lib/python3.10/site-packages (from aiohttp<4.0.0,>=3.8.3->langchain==0.0.208) (1.8.2)\n",
      "Requirement already satisfied: frozenlist>=1.1.1 in /opt/homebrew/lib/python3.10/site-packages (from aiohttp<4.0.0,>=3.8.3->langchain==0.0.208) (1.3.3)\n",
      "Requirement already satisfied: aiosignal>=1.1.2 in /opt/homebrew/lib/python3.10/site-packages (from aiohttp<4.0.0,>=3.8.3->langchain==0.0.208) (1.3.1)\n",
      "Requirement already satisfied: jmespath<2.0.0,>=0.7.1 in /opt/homebrew/lib/python3.10/site-packages (from boto3->deeplake) (1.0.1)\n",
      "Requirement already satisfied: s3transfer<0.7.0,>=0.6.0 in /opt/homebrew/lib/python3.10/site-packages (from boto3->deeplake) (0.6.0)\n",
      "Requirement already satisfied: marshmallow<4.0.0,>=3.3.0 in /opt/homebrew/lib/python3.10/site-packages (from dataclasses-json<0.6.0,>=0.5.7->langchain==0.0.208) (3.19.0)\n",
      "Requirement already satisfied: marshmallow-enum<2.0.0,>=1.5.1 in /opt/homebrew/lib/python3.10/site-packages (from dataclasses-json<0.6.0,>=0.5.7->langchain==0.0.208) (1.5.1)\n",
      "Requirement already satisfied: typing-inspect>=0.4.0 in /opt/homebrew/lib/python3.10/site-packages (from dataclasses-json<0.6.0,>=0.5.7->langchain==0.0.208) (0.8.0)\n",
      "Requirement already satisfied: idna<4,>=2.5 in /opt/homebrew/lib/python3.10/site-packages (from requests<3,>=2->langchain==0.0.208) (3.4)\n",
      "Requirement already satisfied: urllib3<1.27,>=1.21.1 in /opt/homebrew/lib/python3.10/site-packages (from requests<3,>=2->langchain==0.0.208) (1.26.14)\n",
      "Requirement already satisfied: certifi>=2017.4.17 in /opt/homebrew/lib/python3.10/site-packages (from requests<3,>=2->langchain==0.0.208) (2022.12.7)\n",
      "Requirement already satisfied: entrypoints in /opt/homebrew/lib/python3.10/site-packages (from numcodecs->deeplake) (0.4)\n",
      "Requirement already satisfied: ppft>=1.7.6.6 in /opt/homebrew/lib/python3.10/site-packages (from pathos->deeplake) (1.7.6.6)\n",
      "Requirement already satisfied: dill>=0.3.6 in /opt/homebrew/lib/python3.10/site-packages (from pathos->deeplake) (0.3.6)\n",
      "Requirement already satisfied: pox>=0.3.2 in /opt/homebrew/lib/python3.10/site-packages (from pathos->deeplake) (0.3.2)\n",
      "Requirement already satisfied: multiprocess>=0.70.14 in /opt/homebrew/lib/python3.10/site-packages (from pathos->deeplake) (0.70.14)\n",
      "Requirement already satisfied: python-dateutil<3.0.0,>=2.1 in /opt/homebrew/lib/python3.10/site-packages (from botocore<1.29.77,>=1.29.76->aiobotocore[boto3]==2.5.0->aioboto3>=10.4.0->deeplake) (2.8.2)\n",
      "Requirement already satisfied: packaging>=17.0 in /Users/julison/Library/Python/3.10/lib/python/site-packages (from marshmallow<4.0.0,>=3.3.0->dataclasses-json<0.6.0,>=0.5.7->langchain==0.0.208) (23.1)\n",
      "Requirement already satisfied: mypy-extensions>=0.3.0 in /opt/homebrew/lib/python3.10/site-packages (from typing-inspect>=0.4.0->dataclasses-json<0.6.0,>=0.5.7->langchain==0.0.208) (1.0.0)\n",
      "Requirement already satisfied: six>=1.5 in /opt/homebrew/lib/python3.10/site-packages (from python-dateutil<3.0.0,>=2.1->botocore<1.29.77,>=1.29.76->aiobotocore[boto3]==2.5.0->aioboto3>=10.4.0->deeplake) (1.16.0)\n",
      "Note: you may need to restart the kernel to use updated packages.\n"
     ]
    }
   ],
   "source": [
    "%pip install --upgrade langchain==0.0.208 deeplake openai typing_extensions==4.5.0"
   ]
  },
  {
   "cell_type": "code",
   "execution_count": 41,
   "metadata": {},
   "outputs": [
    {
     "ename": "TypeError",
     "evalue": "issubclass() arg 1 must be a class",
     "output_type": "error",
     "traceback": [
      "\u001b[0;31m---------------------------------------------------------------------------\u001b[0m",
      "\u001b[0;31mTypeError\u001b[0m                                 Traceback (most recent call last)",
      "Cell \u001b[0;32mIn[41], line 2\u001b[0m\n\u001b[1;32m      1\u001b[0m \u001b[39mfrom\u001b[39;00m \u001b[39mlangchain\u001b[39;00m\u001b[39m.\u001b[39;00m\u001b[39membeddings\u001b[39;00m\u001b[39m.\u001b[39;00m\u001b[39mopenai\u001b[39;00m \u001b[39mimport\u001b[39;00m OpenAIEmbeddings\n\u001b[0;32m----> 2\u001b[0m \u001b[39mfrom\u001b[39;00m \u001b[39mlangchain\u001b[39;00m\u001b[39m.\u001b[39;00m\u001b[39mvectorstores\u001b[39;00m \u001b[39mimport\u001b[39;00m DeepLake\n\u001b[1;32m      3\u001b[0m \u001b[39mfrom\u001b[39;00m \u001b[39mlangchain\u001b[39;00m\u001b[39m.\u001b[39;00m\u001b[39mtext_splitter\u001b[39;00m \u001b[39mimport\u001b[39;00m RecursiveCharacterTextSplitter\n\u001b[1;32m      4\u001b[0m \u001b[39mfrom\u001b[39;00m \u001b[39mlangchain\u001b[39;00m\u001b[39m.\u001b[39;00m\u001b[39mllms\u001b[39;00m \u001b[39mimport\u001b[39;00m OpenAI\n",
      "File \u001b[0;32m/opt/homebrew/lib/python3.10/site-packages/langchain/__init__.py:6\u001b[0m\n\u001b[1;32m      3\u001b[0m \u001b[39mfrom\u001b[39;00m \u001b[39mimportlib\u001b[39;00m \u001b[39mimport\u001b[39;00m metadata\n\u001b[1;32m      4\u001b[0m \u001b[39mfrom\u001b[39;00m \u001b[39mtyping\u001b[39;00m \u001b[39mimport\u001b[39;00m Optional\n\u001b[0;32m----> 6\u001b[0m \u001b[39mfrom\u001b[39;00m \u001b[39mlangchain\u001b[39;00m\u001b[39m.\u001b[39;00m\u001b[39magents\u001b[39;00m \u001b[39mimport\u001b[39;00m MRKLChain, ReActChain, SelfAskWithSearchChain\n\u001b[1;32m      7\u001b[0m \u001b[39mfrom\u001b[39;00m \u001b[39mlangchain\u001b[39;00m\u001b[39m.\u001b[39;00m\u001b[39mcache\u001b[39;00m \u001b[39mimport\u001b[39;00m BaseCache\n\u001b[1;32m      8\u001b[0m \u001b[39mfrom\u001b[39;00m \u001b[39mlangchain\u001b[39;00m\u001b[39m.\u001b[39;00m\u001b[39mchains\u001b[39;00m \u001b[39mimport\u001b[39;00m (\n\u001b[1;32m      9\u001b[0m     ConversationChain,\n\u001b[1;32m     10\u001b[0m     LLMBashChain,\n\u001b[0;32m   (...)\u001b[0m\n\u001b[1;32m     18\u001b[0m     VectorDBQAWithSourcesChain,\n\u001b[1;32m     19\u001b[0m )\n",
      "File \u001b[0;32m/opt/homebrew/lib/python3.10/site-packages/langchain/agents/__init__.py:2\u001b[0m\n\u001b[1;32m      1\u001b[0m \u001b[39m\"\"\"Interface for agents.\"\"\"\u001b[39;00m\n\u001b[0;32m----> 2\u001b[0m \u001b[39mfrom\u001b[39;00m \u001b[39mlangchain\u001b[39;00m\u001b[39m.\u001b[39;00m\u001b[39magents\u001b[39;00m\u001b[39m.\u001b[39;00m\u001b[39magent\u001b[39;00m \u001b[39mimport\u001b[39;00m (\n\u001b[1;32m      3\u001b[0m     Agent,\n\u001b[1;32m      4\u001b[0m     AgentExecutor,\n\u001b[1;32m      5\u001b[0m     AgentOutputParser,\n\u001b[1;32m      6\u001b[0m     BaseMultiActionAgent,\n\u001b[1;32m      7\u001b[0m     BaseSingleActionAgent,\n\u001b[1;32m      8\u001b[0m     LLMSingleActionAgent,\n\u001b[1;32m      9\u001b[0m )\n\u001b[1;32m     10\u001b[0m \u001b[39mfrom\u001b[39;00m \u001b[39mlangchain\u001b[39;00m\u001b[39m.\u001b[39;00m\u001b[39magents\u001b[39;00m\u001b[39m.\u001b[39;00m\u001b[39magent_toolkits\u001b[39;00m \u001b[39mimport\u001b[39;00m (\n\u001b[1;32m     11\u001b[0m     create_csv_agent,\n\u001b[1;32m     12\u001b[0m     create_json_agent,\n\u001b[0;32m   (...)\u001b[0m\n\u001b[1;32m     21\u001b[0m     create_vectorstore_router_agent,\n\u001b[1;32m     22\u001b[0m )\n\u001b[1;32m     23\u001b[0m \u001b[39mfrom\u001b[39;00m \u001b[39mlangchain\u001b[39;00m\u001b[39m.\u001b[39;00m\u001b[39magents\u001b[39;00m\u001b[39m.\u001b[39;00m\u001b[39magent_types\u001b[39;00m \u001b[39mimport\u001b[39;00m AgentType\n",
      "File \u001b[0;32m/opt/homebrew/lib/python3.10/site-packages/langchain/agents/agent.py:40\u001b[0m\n\u001b[1;32m     32\u001b[0m \u001b[39mfrom\u001b[39;00m \u001b[39mlangchain\u001b[39;00m\u001b[39m.\u001b[39;00m\u001b[39mschema\u001b[39;00m \u001b[39mimport\u001b[39;00m (\n\u001b[1;32m     33\u001b[0m     AgentAction,\n\u001b[1;32m     34\u001b[0m     AgentFinish,\n\u001b[0;32m   (...)\u001b[0m\n\u001b[1;32m     37\u001b[0m     OutputParserException,\n\u001b[1;32m     38\u001b[0m )\n\u001b[1;32m     39\u001b[0m \u001b[39mfrom\u001b[39;00m \u001b[39mlangchain\u001b[39;00m\u001b[39m.\u001b[39;00m\u001b[39mtools\u001b[39;00m\u001b[39m.\u001b[39;00m\u001b[39mbase\u001b[39;00m \u001b[39mimport\u001b[39;00m BaseTool\n\u001b[0;32m---> 40\u001b[0m \u001b[39mfrom\u001b[39;00m \u001b[39mlangchain\u001b[39;00m\u001b[39m.\u001b[39;00m\u001b[39mutilities\u001b[39;00m\u001b[39m.\u001b[39;00m\u001b[39masyncio\u001b[39;00m \u001b[39mimport\u001b[39;00m asyncio_timeout\n\u001b[1;32m     42\u001b[0m logger \u001b[39m=\u001b[39m logging\u001b[39m.\u001b[39mgetLogger(\u001b[39m__name__\u001b[39m)\n\u001b[1;32m     45\u001b[0m \u001b[39mclass\u001b[39;00m \u001b[39mBaseSingleActionAgent\u001b[39;00m(BaseModel):\n",
      "File \u001b[0;32m/opt/homebrew/lib/python3.10/site-packages/langchain/utilities/__init__.py:3\u001b[0m\n\u001b[1;32m      1\u001b[0m \u001b[39m\"\"\"General utilities.\"\"\"\u001b[39;00m\n\u001b[1;32m      2\u001b[0m \u001b[39mfrom\u001b[39;00m \u001b[39mlangchain\u001b[39;00m\u001b[39m.\u001b[39;00m\u001b[39mrequests\u001b[39;00m \u001b[39mimport\u001b[39;00m TextRequestsWrapper\n\u001b[0;32m----> 3\u001b[0m \u001b[39mfrom\u001b[39;00m \u001b[39mlangchain\u001b[39;00m\u001b[39m.\u001b[39;00m\u001b[39mutilities\u001b[39;00m\u001b[39m.\u001b[39;00m\u001b[39mapify\u001b[39;00m \u001b[39mimport\u001b[39;00m ApifyWrapper\n\u001b[1;32m      4\u001b[0m \u001b[39mfrom\u001b[39;00m \u001b[39mlangchain\u001b[39;00m\u001b[39m.\u001b[39;00m\u001b[39mutilities\u001b[39;00m\u001b[39m.\u001b[39;00m\u001b[39marxiv\u001b[39;00m \u001b[39mimport\u001b[39;00m ArxivAPIWrapper\n\u001b[1;32m      5\u001b[0m \u001b[39mfrom\u001b[39;00m \u001b[39mlangchain\u001b[39;00m\u001b[39m.\u001b[39;00m\u001b[39mutilities\u001b[39;00m\u001b[39m.\u001b[39;00m\u001b[39mawslambda\u001b[39;00m \u001b[39mimport\u001b[39;00m LambdaWrapper\n",
      "File \u001b[0;32m/opt/homebrew/lib/python3.10/site-packages/langchain/utilities/apify.py:5\u001b[0m\n\u001b[1;32m      1\u001b[0m \u001b[39mfrom\u001b[39;00m \u001b[39mtyping\u001b[39;00m \u001b[39mimport\u001b[39;00m Any, Callable, Dict, Optional\n\u001b[1;32m      3\u001b[0m \u001b[39mfrom\u001b[39;00m \u001b[39mpydantic\u001b[39;00m \u001b[39mimport\u001b[39;00m BaseModel, root_validator\n\u001b[0;32m----> 5\u001b[0m \u001b[39mfrom\u001b[39;00m \u001b[39mlangchain\u001b[39;00m\u001b[39m.\u001b[39;00m\u001b[39mdocument_loaders\u001b[39;00m \u001b[39mimport\u001b[39;00m ApifyDatasetLoader\n\u001b[1;32m      6\u001b[0m \u001b[39mfrom\u001b[39;00m \u001b[39mlangchain\u001b[39;00m\u001b[39m.\u001b[39;00m\u001b[39mdocument_loaders\u001b[39;00m\u001b[39m.\u001b[39;00m\u001b[39mbase\u001b[39;00m \u001b[39mimport\u001b[39;00m Document\n\u001b[1;32m      7\u001b[0m \u001b[39mfrom\u001b[39;00m \u001b[39mlangchain\u001b[39;00m\u001b[39m.\u001b[39;00m\u001b[39mutils\u001b[39;00m \u001b[39mimport\u001b[39;00m get_from_dict_or_env\n",
      "File \u001b[0;32m/opt/homebrew/lib/python3.10/site-packages/langchain/document_loaders/__init__.py:41\u001b[0m\n\u001b[1;32m     36\u001b[0m \u001b[39mfrom\u001b[39;00m \u001b[39mlangchain\u001b[39;00m\u001b[39m.\u001b[39;00m\u001b[39mdocument_loaders\u001b[39;00m\u001b[39m.\u001b[39;00m\u001b[39mduckdb_loader\u001b[39;00m \u001b[39mimport\u001b[39;00m DuckDBLoader\n\u001b[1;32m     37\u001b[0m \u001b[39mfrom\u001b[39;00m \u001b[39mlangchain\u001b[39;00m\u001b[39m.\u001b[39;00m\u001b[39mdocument_loaders\u001b[39;00m\u001b[39m.\u001b[39;00m\u001b[39memail\u001b[39;00m \u001b[39mimport\u001b[39;00m (\n\u001b[1;32m     38\u001b[0m     OutlookMessageLoader,\n\u001b[1;32m     39\u001b[0m     UnstructuredEmailLoader,\n\u001b[1;32m     40\u001b[0m )\n\u001b[0;32m---> 41\u001b[0m \u001b[39mfrom\u001b[39;00m \u001b[39mlangchain\u001b[39;00m\u001b[39m.\u001b[39;00m\u001b[39mdocument_loaders\u001b[39;00m\u001b[39m.\u001b[39;00m\u001b[39membaas\u001b[39;00m \u001b[39mimport\u001b[39;00m EmbaasBlobLoader, EmbaasLoader\n\u001b[1;32m     42\u001b[0m \u001b[39mfrom\u001b[39;00m \u001b[39mlangchain\u001b[39;00m\u001b[39m.\u001b[39;00m\u001b[39mdocument_loaders\u001b[39;00m\u001b[39m.\u001b[39;00m\u001b[39mepub\u001b[39;00m \u001b[39mimport\u001b[39;00m UnstructuredEPubLoader\n\u001b[1;32m     43\u001b[0m \u001b[39mfrom\u001b[39;00m \u001b[39mlangchain\u001b[39;00m\u001b[39m.\u001b[39;00m\u001b[39mdocument_loaders\u001b[39;00m\u001b[39m.\u001b[39;00m\u001b[39mevernote\u001b[39;00m \u001b[39mimport\u001b[39;00m EverNoteLoader\n",
      "File \u001b[0;32m/opt/homebrew/lib/python3.10/site-packages/langchain/document_loaders/embaas.py:52\u001b[0m\n\u001b[1;32m     48\u001b[0m     \u001b[39mbytes\u001b[39m: \u001b[39mstr\u001b[39m\n\u001b[1;32m     49\u001b[0m \u001b[39m    \u001b[39m\u001b[39m\"\"\"The base64 encoded bytes of the document to extract text from.\"\"\"\u001b[39;00m\n\u001b[0;32m---> 52\u001b[0m \u001b[39mclass\u001b[39;00m \u001b[39mBaseEmbaasLoader\u001b[39;00m(BaseModel):\n\u001b[1;32m     53\u001b[0m     embaas_api_key: Optional[\u001b[39mstr\u001b[39m] \u001b[39m=\u001b[39m \u001b[39mNone\u001b[39;00m\n\u001b[1;32m     54\u001b[0m     api_url: \u001b[39mstr\u001b[39m \u001b[39m=\u001b[39m EMBAAS_DOC_API_URL\n",
      "File \u001b[0;32m/opt/homebrew/lib/python3.10/site-packages/pydantic/main.py:204\u001b[0m, in \u001b[0;36mpydantic.main.ModelMetaclass.__new__\u001b[0;34m()\u001b[0m\n",
      "File \u001b[0;32m/opt/homebrew/lib/python3.10/site-packages/pydantic/fields.py:488\u001b[0m, in \u001b[0;36mpydantic.fields.ModelField.infer\u001b[0;34m()\u001b[0m\n",
      "File \u001b[0;32m/opt/homebrew/lib/python3.10/site-packages/pydantic/fields.py:419\u001b[0m, in \u001b[0;36mpydantic.fields.ModelField.__init__\u001b[0;34m()\u001b[0m\n",
      "File \u001b[0;32m/opt/homebrew/lib/python3.10/site-packages/pydantic/fields.py:539\u001b[0m, in \u001b[0;36mpydantic.fields.ModelField.prepare\u001b[0;34m()\u001b[0m\n",
      "File \u001b[0;32m/opt/homebrew/lib/python3.10/site-packages/pydantic/fields.py:801\u001b[0m, in \u001b[0;36mpydantic.fields.ModelField.populate_validators\u001b[0;34m()\u001b[0m\n",
      "File \u001b[0;32m/opt/homebrew/lib/python3.10/site-packages/pydantic/validators.py:696\u001b[0m, in \u001b[0;36mfind_validators\u001b[0;34m()\u001b[0m\n",
      "File \u001b[0;32m/opt/homebrew/lib/python3.10/site-packages/pydantic/validators.py:585\u001b[0m, in \u001b[0;36mpydantic.validators.make_typeddict_validator\u001b[0;34m()\u001b[0m\n",
      "File \u001b[0;32m/opt/homebrew/lib/python3.10/site-packages/pydantic/annotated_types.py:35\u001b[0m, in \u001b[0;36mpydantic.annotated_types.create_model_from_typeddict\u001b[0;34m()\u001b[0m\n",
      "File \u001b[0;32m/opt/homebrew/lib/python3.10/site-packages/pydantic/main.py:972\u001b[0m, in \u001b[0;36mpydantic.main.create_model\u001b[0;34m()\u001b[0m\n",
      "File \u001b[0;32m/opt/homebrew/lib/python3.10/site-packages/pydantic/main.py:204\u001b[0m, in \u001b[0;36mpydantic.main.ModelMetaclass.__new__\u001b[0;34m()\u001b[0m\n",
      "File \u001b[0;32m/opt/homebrew/lib/python3.10/site-packages/pydantic/fields.py:488\u001b[0m, in \u001b[0;36mpydantic.fields.ModelField.infer\u001b[0;34m()\u001b[0m\n",
      "File \u001b[0;32m/opt/homebrew/lib/python3.10/site-packages/pydantic/fields.py:419\u001b[0m, in \u001b[0;36mpydantic.fields.ModelField.__init__\u001b[0;34m()\u001b[0m\n",
      "File \u001b[0;32m/opt/homebrew/lib/python3.10/site-packages/pydantic/fields.py:534\u001b[0m, in \u001b[0;36mpydantic.fields.ModelField.prepare\u001b[0;34m()\u001b[0m\n",
      "File \u001b[0;32m/opt/homebrew/lib/python3.10/site-packages/pydantic/fields.py:638\u001b[0m, in \u001b[0;36mpydantic.fields.ModelField._type_analysis\u001b[0;34m()\u001b[0m\n",
      "File \u001b[0;32m/opt/homebrew/Cellar/python@3.10/3.10.6_1/Frameworks/Python.framework/Versions/3.10/lib/python3.10/typing.py:1158\u001b[0m, in \u001b[0;36m_SpecialGenericAlias.__subclasscheck__\u001b[0;34m(self, cls)\u001b[0m\n\u001b[1;32m   1156\u001b[0m     \u001b[39mreturn\u001b[39;00m \u001b[39missubclass\u001b[39m(\u001b[39mcls\u001b[39m\u001b[39m.\u001b[39m__origin__, \u001b[39mself\u001b[39m\u001b[39m.\u001b[39m__origin__)\n\u001b[1;32m   1157\u001b[0m \u001b[39mif\u001b[39;00m \u001b[39mnot\u001b[39;00m \u001b[39misinstance\u001b[39m(\u001b[39mcls\u001b[39m, _GenericAlias):\n\u001b[0;32m-> 1158\u001b[0m     \u001b[39mreturn\u001b[39;00m \u001b[39missubclass\u001b[39;49m(\u001b[39mcls\u001b[39;49m, \u001b[39mself\u001b[39;49m\u001b[39m.\u001b[39;49m__origin__)\n\u001b[1;32m   1159\u001b[0m \u001b[39mreturn\u001b[39;00m \u001b[39msuper\u001b[39m()\u001b[39m.\u001b[39m\u001b[39m__subclasscheck__\u001b[39m(\u001b[39mcls\u001b[39m)\n",
      "\u001b[0;31mTypeError\u001b[0m: issubclass() arg 1 must be a class"
     ]
    }
   ],
   "source": [
    "from langchain.embeddings.openai import OpenAIEmbeddings\n",
    "from langchain.vectorstores import DeepLake\n",
    "from langchain.text_splitter import RecursiveCharacterTextSplitter\n",
    "from langchain.llms import OpenAI\n",
    "from langchain.chains import RetrievalQA\n",
    "\n",
    "# Before executing the following code, make sure to have your\n",
    "# Activeloop key saved in the “ACTIVELOOP_TOKEN” environment variable.\n",
    "\n",
    "# instantiate the LLM and embeddings models\n",
    "llm = OpenAI(model=\"text-davinci-003\", temperature=0)\n",
    "embeddings = OpenAIEmbeddings(model=\"text-embedding-ada-002\")\n",
    "\n",
    "# create our documents\n",
    "texts = [\n",
    "    \"Napoleon Bonaparte was born in 15 August 1769\",\n",
    "    \"Louis XIV was born in 5 September 1638\"\n",
    "]\n",
    "text_splitter = RecursiveCharacterTextSplitter(chunk_size=1000, chunk_overlap=0)\n",
    "docs = text_splitter.create_documents(texts)\n",
    "\n",
    "# create Deep Lake dataset\n",
    "# TODO: use your organization id here. (by default, org id is your username)\n",
    "my_activeloop_org_id = \"<YOUR-ACTIVELOOP-ORG-ID>\" \n",
    "my_activeloop_dataset_name = \"langchain_course_from_zero_to_hero\"\n",
    "dataset_path = f\"hub://{my_activeloop_org_id}/{my_activeloop_dataset_name}\"\n",
    "db = DeepLake(dataset_path=dataset_path, embedding_function=embeddings)\n",
    "\n",
    "# add documents to our Deep Lake dataset\n",
    "db.add_documents(docs)"
   ]
  }
 ],
 "metadata": {
  "kernelspec": {
   "display_name": "Python 3",
   "language": "python",
   "name": "python3"
  },
  "language_info": {
   "codemirror_mode": {
    "name": "ipython",
    "version": 3
   },
   "file_extension": ".py",
   "mimetype": "text/x-python",
   "name": "python",
   "nbconvert_exporter": "python",
   "pygments_lexer": "ipython3",
   "version": "3.10.6"
  },
  "orig_nbformat": 4
 },
 "nbformat": 4,
 "nbformat_minor": 2
}
