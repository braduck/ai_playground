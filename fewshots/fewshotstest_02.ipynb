{
 "cells": [
  {
   "cell_type": "code",
   "execution_count": 16,
   "metadata": {},
   "outputs": [],
   "source": [
    "import configparser\n",
    "import os\n",
    "\n",
    "config = configparser.RawConfigParser()\n",
    "config.read('keys.config')\n",
    "os.environ[\"ACTIVELOOP_TOKEN\"] = config.get('keys', 'active_loop_key')\n",
    "os.environ[\"OPENAI_API_KEY\"] = config.get('keys', 'open_ai_key')\n"
   ]
  },
  {
   "cell_type": "code",
   "execution_count": 17,
   "metadata": {},
   "outputs": [],
   "source": [
    "from langchain.chains import RetrievalQA\n",
    "from langchain.document_loaders import TextLoader\n",
    "from langchain.embeddings.openai import OpenAIEmbeddings\n",
    "from langchain.text_splitter import CharacterTextSplitter\n",
    "from langchain.vectorstores import DeepLake"
   ]
  },
  {
   "cell_type": "code",
   "execution_count": 18,
   "metadata": {},
   "outputs": [
    {
     "name": "stdout",
     "output_type": "stream",
     "text": [
      "Deep Lake Dataset in ./deeplake/ already exists, loading from the storage\n",
      "Dataset(path='./deeplake/', tensors=['embedding', 'id', 'metadata', 'text'])\n",
      "\n",
      "  tensor      htype      shape     dtype  compression\n",
      "  -------    -------    -------   -------  ------- \n",
      " embedding  embedding  (2, 1536)  float32   None   \n",
      "    id        text      (2, 1)      str     None   \n",
      " metadata     json      (2, 1)      str     None   \n",
      "   text       text      (2, 1)      str     None   \n"
     ]
    },
    {
     "name": "stderr",
     "output_type": "stream",
     "text": []
    },
    {
     "data": {
      "text/plain": [
       "8"
      ]
     },
     "execution_count": 18,
     "metadata": {},
     "output_type": "execute_result"
    }
   ],
   "source": [
    "loader = TextLoader(\"energy_week2.txt\", encoding=\"utf-8\")\n",
    "documents = loader.load()\n",
    "text_splitter = CharacterTextSplitter(chunk_size=1000, chunk_overlap=0)\n",
    "texts = text_splitter.split_documents(documents)\n",
    "for i, text in enumerate(texts):\n",
    "    text.metadata[\"source\"] = f\"{i}-pl\"\n",
    "embeddings = OpenAIEmbeddings()\n",
    "docsearch = DeepLake.from_documents(texts, embeddings)\n",
    "\n",
    "# # create Deep Lake dataset\n",
    "# # TODO: use your organization id here. (by default, org id is your username)\n",
    "# my_activeloop_org_id = \"braduck\" \n",
    "# my_activeloop_dataset_name = \"espresso\"\n",
    "# dataset_path = f\"hub://{my_activeloop_org_id}/{my_activeloop_dataset_name}\"\n",
    "# db = DeepLake(dataset_path=dataset_path, embedding_function=embeddings)\n",
    "\n",
    "# # add documents to our Deep Lake dataset\n",
    "# db.delete(delete_all=True)\n",
    "# db.add_documents(docsearch)\n"
   ]
  },
  {
   "cell_type": "code",
   "execution_count": 19,
   "metadata": {},
   "outputs": [],
   "source": [
    "from langchain import PromptTemplate\n",
    "from langchain import FewShotPromptTemplate\n",
    "\n",
    "# Load Sample\n",
    "f = open('sample_espresso.txt', 'r')\n",
    "rows = f.readlines()\n",
    "\n",
    "sample = []\n",
    "for r  in rows:\n",
    "    if \"Category:\" in r: # New Category\n",
    "        sample.append({\"query\": r})\n",
    "    else:\n",
    "        if sample[-1].get(\"answer\", None) is None:\n",
    "            sample[-1][\"answer\"] = \"\"\n",
    "        \n",
    "        sample[-1][\"answer\"] += r\n",
    "\n",
    "# create an example template\n",
    "example_template = \"\"\"\n",
    "User: {query}\n",
    "AI: {answer}\n",
    "\"\"\"\n",
    "\n",
    "# create a prompt example from above template\n",
    "example_prompt = PromptTemplate(\n",
    "    input_variables=[\"query\", \"answer\"],\n",
    "    template=example_template\n",
    ")\n",
    "\n",
    "# now break our previous prompt into a prefix and suffix\n",
    "# the prefix is our instructions\n",
    "prefix = \"\"\"The following is a template for Energy-related News, grouped by category.\\\n",
    "    Use this template as a sample to generate new Energy-related News by category.\n",
    "\"\"\"\n",
    "# and the suffix our user input and output indicator\n",
    "suffix = \"\"\"\n",
    "User: {query}\n",
    "AI: \"\"\"\n",
    "\n",
    "# now create the few-shot prompt template\n",
    "few_shot_prompt_template = FewShotPromptTemplate(\n",
    "    examples=sample,\n",
    "    example_prompt=example_prompt,\n",
    "    prefix=prefix,\n",
    "    suffix=suffix,\n",
    "    input_variables=[\"query\"],\n",
    "    example_separator=\"\\n\\n\"\n",
    ")"
   ]
  },
  {
   "cell_type": "code",
   "execution_count": 8,
   "metadata": {},
   "outputs": [],
   "source": [
    "from langchain.chat_models import ChatOpenAI\n",
    "from langchain.chains.combine_documents.stuff import StuffDocumentsChain\n",
    "from langchain.prompts import PromptTemplate\n",
    "from langchain.chains import create_qa_with_sources_chain"
   ]
  },
  {
   "cell_type": "code",
   "execution_count": 20,
   "metadata": {},
   "outputs": [],
   "source": [
    "llm = ChatOpenAI(temperature=0, model=\"gpt-3.5-turbo\")\n",
    "qa_chain = create_qa_with_sources_chain(llm)"
   ]
  },
  {
   "cell_type": "code",
   "execution_count": 21,
   "metadata": {},
   "outputs": [],
   "source": [
    "doc_prompt = PromptTemplate(\n",
    "    template=\"Content: {page_content}\\nSource: {source}\",\n",
    "    input_variables=[\"page_content\", \"source\"],\n",
    ")"
   ]
  },
  {
   "cell_type": "code",
   "execution_count": 12,
   "metadata": {},
   "outputs": [],
   "source": [
    "# final_qa_chain = StuffDocumentsChain(\n",
    "#     llm_chain=qa_chain,\n",
    "#     document_variable_name=\"context\",\n",
    "#     document_prompt=doc_prompt,\n",
    "# )\n",
    "final_qa_chain = StuffDocumentsChain(\n",
    "    llm_chain=qa_chain,\n",
    "    document_variable_name=\"context\",\n",
    "    document_prompt=few_shot_prompt_template,\n",
    ")"
   ]
  },
  {
   "cell_type": "code",
   "execution_count": 13,
   "metadata": {},
   "outputs": [],
   "source": [
    "retrieval_qa = RetrievalQA(\n",
    "    retriever=docsearch.as_retriever(), combine_documents_chain=final_qa_chain\n",
    ")"
   ]
  },
  {
   "cell_type": "code",
   "execution_count": 22,
   "metadata": {},
   "outputs": [],
   "source": [
    "query = \"What the most commom word?\"\n",
    "\n",
    "query = \"\"\"\n",
    "Generate a summary of the tweets (each tweet is a line in the document retrieved) for each category on few show template.\\\n",
    "Rules:\\\n",
    "- The same tweet cannot appear in more than one category\n",
    "- Minimum of 2 and Max of 5 tweets per category\n",
    "- Bring the most relevant tweets, based on:\n",
    "    - Words related to Energy (Crude Oil, Natural Gas, Electricity)\n",
    "    - Words related to the Category Name\n",
    "    - Lenght of the tweet\n",
    "\"\"\"\n"
   ]
  },
  {
   "cell_type": "code",
   "execution_count": 23,
   "metadata": {},
   "outputs": [
    {
     "data": {
      "text/plain": [
       "'{\\n  \"answer\": \"Category: Geopolitics\\\\n- OPEC meeting on June 4th.\\\\n- International inspectors report Iran has re-installed monitoring equipment even as its highly-enriched uranium inventory surged 30% last quarter\\\\n\\\\nCategory: Global Macro\\\\n- China Manufacturing PMI fell to 48.8 (lower/weaker than expected). US PMI reported at 48.5 (weaker/lower than expected)\\\\n- Germany is confirmed to be in recession (two successive quarters of negative Growth). GDP growth Q1 2023 -0.5% Q4 2022 -0.3%\\\\n\\\\nCategory: Trade/Reg\\\\n- #Nigeria Owes Its Energy Company $6 Billion in Fuel-Subsidy Debt NNPC’s CEO welcomed president’s decision to scrap subsidy It cost the state $10 billion to keep fuel cheap in 2022\\\\n\\\\nCategory: Merchant\\\\n- China Russia are discussing potential #coal supply contracts w Russia seeking to strengthen cooperation w China. This comes amid global demand uncertainties increasing competition in the Chinese market. In Oct 2021, Russia signed a memorandum w India re coal supply\\\\n\\\\nCategory: Fundamentals\\\\n- Colombian natural gas reserves fell to the lowest since at least 2007 and oil reserves also dropped, pressuring President Petro to rethink his ban on new fossil-fuel exploration\\\\n- US crude production rose to 12.696mbpd in March from 12.525mbpd in February (revised up from 12.483mbpd). EIA STEO March forecast was 12.590mbpd\\\\n\\\\nCategory: Capex\\\\n- Bechtel and Westinghouse have signed an agreement to design and construct the first #nuclear power plant in Poland. The #construction contract is expected to be awarded in 2025\",\\n  \"sources\": [\"0-pl\"]\\n}'"
      ]
     },
     "execution_count": 23,
     "metadata": {},
     "output_type": "execute_result"
    }
   ],
   "source": [
    "retrieval_qa.run(query)"
   ]
  }
 ],
 "metadata": {
  "kernelspec": {
   "display_name": "Python 3",
   "language": "python",
   "name": "python3"
  },
  "language_info": {
   "codemirror_mode": {
    "name": "ipython",
    "version": 3
   },
   "file_extension": ".py",
   "mimetype": "text/x-python",
   "name": "python",
   "nbconvert_exporter": "python",
   "pygments_lexer": "ipython3",
   "version": "3.10.6"
  },
  "orig_nbformat": 4
 },
 "nbformat": 4,
 "nbformat_minor": 2
}
